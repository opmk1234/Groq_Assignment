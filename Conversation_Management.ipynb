{
  "nbformat": 4,
  "nbformat_minor": 0,
  "metadata": {
    "colab": {
      "provenance": [],
      "gpuType": "T4"
    },
    "kernelspec": {
      "name": "python3",
      "display_name": "Python 3"
    },
    "language_info": {
      "name": "python"
    },
    "accelerator": "GPU"
  },
  "cells": [
    {
      "cell_type": "code",
      "execution_count": 1,
      "metadata": {
        "id": "CkDZtsgMkaCF"
      },
      "outputs": [],
      "source": [
        "# install openai\n",
        "!pip install -q openai"
      ]
    },
    {
      "cell_type": "code",
      "source": [
        "# importing enviornment dependencies\n",
        "import os, re, json"
      ],
      "metadata": {
        "id": "vVfbL8CpohnV"
      },
      "execution_count": 2,
      "outputs": []
    },
    {
      "cell_type": "code",
      "source": [
        "#now we will be using groq api\n",
        "#from google.colab import userdata\n",
        "\n",
        "#Fetch Groq key from Colab secrets\n",
        "Groq_Api_Key = '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'\n",
        "if Groq_Api_Key is None:\n",
        "    raise ValueError(\"Groq API key not found\")\n",
        "\n",
        "#Set environment variable for OpenAI/Groq client\n",
        "os.environ[\"GROQ_API_KEY\"] = Groq_Api_Key"
      ],
      "metadata": {
        "id": "C_DOZ_eDpdId"
      },
      "execution_count": 3,
      "outputs": []
    },
    {
      "cell_type": "code",
      "source": [
        "from openai import OpenAI\n",
        "Envio = OpenAI(\n",
        "    base_url=\"https://api.groq.com/openai/v1\",\n",
        "    api_key=os.environ[\"GROQ_API_KEY\"],\n",
        "    )\n"
      ],
      "metadata": {
        "id": "lyGxa24GqIPT"
      },
      "execution_count": 4,
      "outputs": []
    },
    {
      "cell_type": "code",
      "source": [
        "#Task 1:\n",
        "#Conversation Management\n",
        "history = []   # just a list to keep chats\n",
        "runs = 0       # count how many times\n",
        "def add_msg(role, text):\n",
        "  history.append({\"role\": role, \"content\": text})"
      ],
      "metadata": {
        "id": "Fshyfav60D2k"
      },
      "execution_count": 5,
      "outputs": []
    },
    {
      "cell_type": "code",
      "source": [
        "#for truncation of history\n",
        "def truncate_history(limit_type=\"turns\", value=5):\n",
        "  global history\n",
        "  if limit_type == \"turns\":\n",
        "    history = history[-value:]\n",
        "  elif limit_type == \"chars\":\n",
        "    # kinda messy but works\n",
        "    total = 0\n",
        "    newhist = []\n",
        "    for msg in reversed(history):\n",
        "      if total + len(msg[\"content\"]) <= value:\n",
        "        newhist.insert(0, msg)\n",
        "        total += len(msg[\"content\"])\n",
        "    history = newhist"
      ],
      "metadata": {
        "id": "WqpJpWpR1HZO"
      },
      "execution_count": 6,
      "outputs": []
    },
    {
      "cell_type": "code",
      "source": [
        "def summarize_history():\n",
        "  # join all messages into text\n",
        "  text = \"\"\n",
        "  for m in history:\n",
        "    text += m[\"role\"] + \": \" + m[\"content\"] + \"\\n\"\n",
        "\n",
        "  res = Envio.chat.completions.create(\n",
        "    model=\"llama-3.3-70b-versatile\",\n",
        "    messages=[\n",
        "      {\"role\": \"system\", \"content\": \"make a short summary of this conversation\"},\n",
        "      {\"role\": \"user\", \"content\": text}\n",
        "    ],\n",
        "    temperature=0.3\n",
        "  )\n",
        "  return res.choices[0].message.content"
      ],
      "metadata": {
        "id": "amatmVgc4Lx4"
      },
      "execution_count": 7,
      "outputs": []
    },
    {
      "cell_type": "code",
      "source": [
        "def periodic_summary(k=3):\n",
        "  global runs, history\n",
        "  runs += 1\n",
        "  if runs % k == 0:\n",
        "    s = summarize_history()\n",
        "    history = [{\"role\": \"system\", \"content\": \"summary: \" + s}]"
      ],
      "metadata": {
        "id": "oYyhjmuh4YOl"
      },
      "execution_count": 8,
      "outputs": []
    },
    {
      "cell_type": "code",
      "source": [
        "#task 2: json schema extraction\n",
        "\n",
        "schema = {\n",
        "  \"name\": \"extract_user_info\",\n",
        "  \"description\": \"pull out name, email, phone, location, age\",\n",
        "  \"parameters\": {\n",
        "    \"type\": \"object\",\n",
        "    \"properties\": {\n",
        "      \"name\": {\"type\": \"string\"},\n",
        "      \"email\": {\"type\": \"string\"},\n",
        "      \"phone\": {\"type\": \"string\"},\n",
        "      \"location\": {\"type\": \"string\"},\n",
        "      \"age\": {\"type\": \"string\"}\n",
        "    },\n",
        "    \"required\": [\"name\", \"email\", \"phone\", \"location\", \"age\"]\n",
        "  }\n",
        "}"
      ],
      "metadata": {
        "id": "UwhwGtY84l_A"
      },
      "execution_count": 9,
      "outputs": []
    },
    {
      "cell_type": "code",
      "source": [
        "def extract_info(text):\n",
        "  res = Envio.chat.completions.create(\n",
        "    model=\"llama-3.3-70b-versatile\",\n",
        "    messages=[{\"role\": \"user\", \"content\": text}],\n",
        "    tools=[{\"type\": \"function\", \"function\": schema}],\n",
        "    tool_choice=\"auto\"\n",
        "  )\n",
        "  tool = res.choices[0].message.tool_calls[0]\n",
        "  return tool.function.arguments"
      ],
      "metadata": {
        "id": "q-bP4DEk4zqj"
      },
      "execution_count": 10,
      "outputs": []
    },
    {
      "cell_type": "code",
      "source": [
        "# demo\n",
        "add_msg(\"user\", \"Hello I am Karan, from Chandigarh.\")\n",
        "add_msg(\"assistant\", \"Hi Karan!\")\n",
        "add_msg(\"user\", \"my email is karan@mail.com and phone 1234566753. I am 90 years old.\")\n",
        "periodic_summary(3)  # after 3rd run, it should summarize\n",
        "print(\"conversation history now:\")\n",
        "print(history)"
      ],
      "metadata": {
        "colab": {
          "base_uri": "https://localhost:8080/"
        },
        "id": "lo3BaMo449Hv",
        "outputId": "ecaaa3b4-31d9-49f1-ad14-730e17dbe83a"
      },
      "execution_count": 11,
      "outputs": [
        {
          "output_type": "stream",
          "name": "stdout",
          "text": [
            "conversation history now:\n",
            "[{'role': 'user', 'content': 'Hello I am Karan, from Chandigarh.'}, {'role': 'assistant', 'content': 'Hi Karan!'}, {'role': 'user', 'content': 'my email is karan@mail.com and phone 1234566753. I am 90 years old.'}]\n"
          ]
        }
      ]
    },
    {
      "cell_type": "code",
      "source": [
        "sample = \"My name is Karan, I am 99, from Wakanda, email karan@gmail.com phone 999888777.\"\n",
        "print(\"\\nextracted info:\")\n",
        "print(extract_info(sample))"
      ],
      "metadata": {
        "colab": {
          "base_uri": "https://localhost:8080/"
        },
        "id": "3XXT-QC36CZq",
        "outputId": "f4dda5fe-e5a2-44d5-f4ac-47749fcf5409"
      },
      "execution_count": 12,
      "outputs": [
        {
          "output_type": "stream",
          "name": "stdout",
          "text": [
            "\n",
            "extracted info:\n",
            "{\"age\":\"99\",\"email\":\"karan@gmail.com\",\"location\":\"Wakanda\",\"name\":\"Karan\",\"phone\":\"999888777\"}\n"
          ]
        }
      ]
    }
  ]
}